{
 "cells": [
  {
   "metadata": {},
   "cell_type": "markdown",
   "source": [
    "# Costa Rica Pipeline Notebook\n",
    "\n",
    "This is the `Translation` part of the notebook where:\n",
    "- Original dataset is imported from `Classification_Plots.zip`\n",
    "- An English translated GeoDataFrame is created (`gdf_e`)\n",
    "- Both SP and EN GeoDataFrame's are saved as `parquet` files in `\"Costa_Rica_Data/Setup Output\"`"
   ],
   "id": "3797862ec1b684bb"
  },
  {
   "metadata": {},
   "cell_type": "markdown",
   "source": "## Section 1 - Setup",
   "id": "77aae926033b9609"
  },
  {
   "metadata": {},
   "cell_type": "markdown",
   "source": "### Section 1.1 - Installing software and importing packages",
   "id": "acecc2a2cb746b57"
  },
  {
   "metadata": {
    "scrolled": true,
    "ExecuteTime": {
     "end_time": "2025-02-14T04:36:13.774449Z",
     "start_time": "2025-02-14T04:36:11.994593Z"
    }
   },
   "cell_type": "code",
   "source": "!pip install pandas geopandas pyarrow",
   "id": "80afb1ab10aac593",
   "outputs": [
    {
     "name": "stdout",
     "output_type": "stream",
     "text": [
      "Requirement already satisfied: pandas in c:\\users\\goldf\\documents\\programming\\pycharmprojects\\venv\\lib\\site-packages (2.2.3)\n",
      "Requirement already satisfied: geopandas in c:\\users\\goldf\\documents\\programming\\pycharmprojects\\venv\\lib\\site-packages (1.0.1)\n",
      "Requirement already satisfied: pyarrow in c:\\users\\goldf\\documents\\programming\\pycharmprojects\\venv\\lib\\site-packages (19.0.0)\n",
      "Requirement already satisfied: numpy>=1.26.0 in c:\\users\\goldf\\documents\\programming\\pycharmprojects\\venv\\lib\\site-packages (from pandas) (2.2.1)\n",
      "Requirement already satisfied: python-dateutil>=2.8.2 in c:\\users\\goldf\\documents\\programming\\pycharmprojects\\venv\\lib\\site-packages (from pandas) (2.9.0.post0)\n",
      "Requirement already satisfied: pytz>=2020.1 in c:\\users\\goldf\\documents\\programming\\pycharmprojects\\venv\\lib\\site-packages (from pandas) (2024.2)\n",
      "Requirement already satisfied: tzdata>=2022.7 in c:\\users\\goldf\\documents\\programming\\pycharmprojects\\venv\\lib\\site-packages (from pandas) (2024.2)\n",
      "Requirement already satisfied: pyogrio>=0.7.2 in c:\\users\\goldf\\documents\\programming\\pycharmprojects\\venv\\lib\\site-packages (from geopandas) (0.10.0)\n",
      "Requirement already satisfied: packaging in c:\\users\\goldf\\documents\\programming\\pycharmprojects\\venv\\lib\\site-packages (from geopandas) (24.2)\n",
      "Requirement already satisfied: pyproj>=3.3.0 in c:\\users\\goldf\\documents\\programming\\pycharmprojects\\venv\\lib\\site-packages (from geopandas) (3.7.0)\n",
      "Requirement already satisfied: shapely>=2.0.0 in c:\\users\\goldf\\documents\\programming\\pycharmprojects\\venv\\lib\\site-packages (from geopandas) (2.0.6)\n",
      "Requirement already satisfied: certifi in c:\\users\\goldf\\documents\\programming\\pycharmprojects\\venv\\lib\\site-packages (from pyogrio>=0.7.2->geopandas) (2024.12.14)\n",
      "Requirement already satisfied: six>=1.5 in c:\\users\\goldf\\documents\\programming\\pycharmprojects\\venv\\lib\\site-packages (from python-dateutil>=2.8.2->pandas) (1.17.0)\n"
     ]
    },
    {
     "name": "stderr",
     "output_type": "stream",
     "text": [
      "\n",
      "[notice] A new release of pip is available: 24.3.1 -> 25.0.1\n",
      "[notice] To update, run: python.exe -m pip install --upgrade pip\n"
     ]
    }
   ],
   "execution_count": 32
  },
  {
   "metadata": {
    "ExecuteTime": {
     "end_time": "2025-02-14T04:36:13.781463Z",
     "start_time": "2025-02-14T04:36:13.777456Z"
    }
   },
   "cell_type": "code",
   "source": [
    "import geopandas as gpd\n",
    "import pandas as pd"
   ],
   "id": "cd723e5ad8cc7f4c",
   "outputs": [],
   "execution_count": 33
  },
  {
   "metadata": {},
   "cell_type": "markdown",
   "source": "### Section 1.2 - Importing our Dataset",
   "id": "e24c9963e24dc02c"
  },
  {
   "metadata": {
    "ExecuteTime": {
     "end_time": "2025-02-14T04:36:13.930369Z",
     "start_time": "2025-02-14T04:36:13.828718Z"
    }
   },
   "cell_type": "code",
   "source": [
    "# We are importing the observational data from the ZIP file provided (which contains the shape file) into a GeoDataFrame\n",
    "#gdf = gpd.read_file('../Costa_Rica_Data/Classification_Plots.zip')\n",
    "gdf = gpd.read_parquet('../Costa_Rica_Data/Data Acquisition Output/extracted_gee_data/sp_basic_gee_data.parquet')\n",
    "\n",
    "# These display information about the GeoDataFrame to confirm the contains are what we expected\n",
    "display(gdf.crs)\n",
    "display(gdf.columns)"
   ],
   "id": "e43800f7469667e2",
   "outputs": [
    {
     "data": {
      "text/plain": [
       "<Geographic 2D CRS: EPSG:4326>\n",
       "Name: WGS 84\n",
       "Axis Info [ellipsoidal]:\n",
       "- Lat[north]: Geodetic latitude (degree)\n",
       "- Lon[east]: Geodetic longitude (degree)\n",
       "Area of Use:\n",
       "- name: World.\n",
       "- bounds: (-180.0, -90.0, 180.0, 90.0)\n",
       "Datum: World Geodetic System 1984 ensemble\n",
       "- Ellipsoid: WGS 84\n",
       "- Prime Meridian: Greenwich"
      ]
     },
     "metadata": {},
     "output_type": "display_data"
    },
    {
     "data": {
      "text/plain": [
       "Index(['plotid', 'sampleid', 'Uso', 'Cobertura', 'Vegetacion', 'Herbaceas',\n",
       "       'Pasto_Arb', 'Cultivo', 'Humedal', 'Terreno', 'Agua', 'Otra_clase',\n",
       "       'SAF', 'Cambios15_', 'Gana_Perdi', 'geometry', 'BLUE', 'GREEN', 'NIR',\n",
       "       'RED', 'SWIR1', 'SWIR2', 'altura2', 'aspect', 'aspectcos', 'aspectdeg',\n",
       "       'aspectsin', 'brightness', 'clay_1mMed', 'diff', 'elevation', 'evi',\n",
       "       'fpar', 'hand30_100', 'lai', 'mTPI', 'ndvi', 'ocs_1mMed', 'sand_1mMed',\n",
       "       'savi', 'silt_1mMed', 'slope', 'topDiv', 'wetness'],\n",
       "      dtype='object')"
      ]
     },
     "metadata": {},
     "output_type": "display_data"
    }
   ],
   "execution_count": 34
  },
  {
   "metadata": {},
   "cell_type": "markdown",
   "source": "## Section 1.3 - English Translations",
   "id": "c2579d84d523aa85"
  },
  {
   "metadata": {},
   "cell_type": "markdown",
   "source": "Renaming every column name to their respective English translation",
   "id": "335ce6889431a7a7"
  },
  {
   "metadata": {
    "ExecuteTime": {
     "end_time": "2025-02-14T04:36:14.000220Z",
     "start_time": "2025-02-14T04:36:13.954375Z"
    }
   },
   "cell_type": "code",
   "source": [
    "# Insert code here for Section 1.3\n",
    "k_clms = ['plotid','sampleid','Uso','Cobertura','Vegetacion','Herbaceas', 'Pasto_Arb', 'Cultivo','Humedal', 'Terreno','Agua','Otra_clase','SAF','Cambios15_','Gana_Perdi','geometry']\n",
    "gdf_s=gdf[k_clms]\n",
    "# gdf_s\n",
    "\n",
    "# new column names\n",
    "english_translations_predictors = {\n",
    "    'Uso': 'Use',\n",
    "    'Cobertura': 'CoverType',\n",
    "    'Vegetacion': 'Vegetations',\n",
    "    'Herbaceas': 'Herbaceous',\n",
    "    'Pasto_Arb': 'GrasslandShrub',\n",
    "    'Cultivo': 'CropsType',\n",
    "    'Humedal': 'WetlandArea',\n",
    "    'Terreno': 'LandType',\n",
    "    'Agua': 'WaterBodyType',\n",
    "    'Otra_clase': 'OtherClass',\n",
    "    'SAF': 'SAF',\n",
    "    'Cambios15_': 'Changes_15',\n",
    "    'Gana_Perdi': 'Gain_Loss',\n",
    "}\n",
    "\n",
    "# Create a new GeoDataFrame with selected columns and translations\n",
    "gdf_e = gdf[k_clms].copy()  # Creating a new GeoDataFrame\n",
    "gdf_e.rename(columns=english_translations_predictors, inplace=True)  # Renaming columns"
   ],
   "id": "449d9a0238e3a9ca",
   "outputs": [],
   "execution_count": 35
  },
  {
   "metadata": {},
   "cell_type": "markdown",
   "source": "Renaming each predictor according to their respective English translation",
   "id": "bae1e91be971f0df"
  },
  {
   "metadata": {
    "ExecuteTime": {
     "end_time": "2025-02-14T04:36:14.137831Z",
     "start_time": "2025-02-14T04:36:14.015768Z"
    }
   },
   "cell_type": "code",
   "source": [
    "# Translation dictionaries for each categorical predictor\n",
    "translation_dicts = {\n",
    "    'Use': { # num of missing values: 216\n",
    "        'Bosque': 'Forest',\n",
    "        'Pastos': 'Grasslands',\n",
    "        'Humedal': 'Wetlands',\n",
    "        'Otras clases': 'Other classes',\n",
    "        'Agricultura': 'Agriculture',\n",
    "        'Plantacion forestal': 'Forest plantation',\n",
    "        'Sin informacion': 'No information',\n",
    "        'None': 'None'\n",
    "    },\n",
    "    'CoverType': { # num of missing values: 216\n",
    "        'Vegetacion': 'Vegetation',\n",
    "        'Sin vegetacion': 'No vegetation',\n",
    "        'Agua': 'Water',\n",
    "        'Sin informacion': 'No information',\n",
    "        'Nubes y sombras': 'Clouds and shadows',\n",
    "        'None': 'None'\n",
    "    },\n",
    "     'Changes_15': {# num of missing values: 216\n",
    "        'No se determina': 'Not determined',\n",
    "        'No': 'No',\n",
    "        'Si': 'Yes',\n",
    "        'None': 'None'\n",
    "    },\n",
    "    'Vegetations': {\n",
    "        'Arboles': 'Trees',\n",
    "        'Herbaceas': 'Herbaceous plants',\n",
    "        'None': 'None',\n",
    "        'Palmas': 'Palms',\n",
    "        'Arbustos': 'Shrubs',\n",
    "        'Otra vegetacion': 'Other vegetation',\n",
    "        'Saran': 'Saran (plastic cover)',\n",
    "        'Plastico': 'Plastic'\n",
    "    },\n",
    "    'Herbaceous': {\n",
    "        'None': 'None',\n",
    "        'Gramineas': 'Grasses',\n",
    "        'Otras Herbaceas': 'Other Herbaceous',\n",
    "        'Musaceas': 'Plantains'\n",
    "    },\n",
    "    'GrasslandShrub': {\n",
    "        'None': 'None',\n",
    "        'Pastos mezclados (70-90%)': 'Mixed Pasture (70-90%)',\n",
    "        'Pastos Puros (90-100%)': 'Pure Pasture (90-100%)',\n",
    "        'Pastos Combinados (50-70%)': 'Combined Pasture (50-70%)'\n",
    "    },\n",
    "    'CropsType': { # 10 different crop types\n",
    "        'None': 'None',\n",
    "        'Pina': 'Pineapple',\n",
    "        'Otro': 'Other',\n",
    "        'Arroz': 'Rice',\n",
    "        'Citricos': 'Citrus',\n",
    "        'Cana': 'Sugarcane',\n",
    "        'Palma': 'Palm',\n",
    "        'Banano': 'Banana',\n",
    "        'Melon': 'Melon',\n",
    "        'Sandia': 'Watermelon',\n",
    "        'Cafe': 'Coffee'\n",
    "    },\n",
    "     'WaterBodyType': { # 2 types of water bodies\n",
    "        'None': 'None',\n",
    "        'Continentales': 'Continental',\n",
    "        'Mar�timas': 'Marine'\n",
    "    },\n",
    "\n",
    "    'WetlandArea': { # 5 wetland area types\n",
    "        'None': 'None',\n",
    "        'Pantano (Palustre)': 'Swamp (Marsh)',\n",
    "        'Cuerpos de agua': 'Water bodies',\n",
    "        'Yolillal': 'Yolillal_Plants',\n",
    "        'Salinera': 'Salt marsh',\n",
    "        'Manglar': 'Mangrove'\n",
    "    },\n",
    "    'LandType': {\n",
    "        'None': 'None',\n",
    "        'Otras superficies': 'Other surfaces', # forested areas?\n",
    "        'Terreno descubierto': 'Exposed land', #  land degradation (soil is exposed)\n",
    "        'Suelo desnudo': 'Bare Land' # lacks cover (deforestation, desert)\n",
    "    },\n",
    "    'OtherClass': {\n",
    "        'None': 'None',\n",
    "        'Edificado / Desarrollado': 'Built/Developed',\n",
    "        'Suelo desnudo': 'Bare Land',\n",
    "        'Nubes': 'Clouds',\n",
    "        'Sombra de nubes': 'Cloud shadow',\n",
    "        'Paramo': 'Páramo (high-altitude ecosystem)',\n",
    "        'Playas y arenales': 'Beaches and sandbanks'\n",
    "    },\n",
    "    'SAF': {\n",
    "        'None': 'None',\n",
    "        'Cultivo Puro (90-100%)': 'Pure crop (90-100%)',\n",
    "        'Cultivo mezclado (70-90%)': 'Mixed crop (70-90%)',\n",
    "        'Cultivo Combinado (50-70%)': 'Combined crop (50-70%)'\n",
    "    },\n",
    "    'Gain_Loss': {\n",
    "        'None': 'None',# third category no gain or loss\n",
    "        'Perdida de Bosque': 'Forest loss',\n",
    "        'Ganancia de Bosque': 'Forest gain'\n",
    "    }\n",
    "}\n",
    "\n",
    "# Loop through each column and replace the Spanish values with the English translations\n",
    "for col, trans_dict in translation_dicts.items():\n",
    "    gdf_e[col] = gdf_e[col].replace(trans_dict)"
   ],
   "id": "6b5a7741cb23182f",
   "outputs": [],
   "execution_count": 36
  },
  {
   "metadata": {},
   "cell_type": "markdown",
   "source": "Confirming the translations in the new Dataframe",
   "id": "b1ad5d4a35220a07"
  },
  {
   "metadata": {
    "ExecuteTime": {
     "end_time": "2025-02-14T04:36:14.205704Z",
     "start_time": "2025-02-14T04:36:14.154345Z"
    }
   },
   "cell_type": "code",
   "source": [
    "# set display options to show more content\n",
    "pd.set_option('display.max_colwidth', None)  # Allows full width of content in each column\n",
    "pd.set_option('display.max_rows', None)      # Show all rows (if there are not too many unique values)\n",
    "\n",
    "# Now, get and display unique values for each categorical feature\n",
    "unique_values = gdf_e.select_dtypes(include=['object', 'category']).apply(lambda x: x.unique())\n",
    "\n",
    "# Display the result\n",
    "print(unique_values)"
   ],
   "id": "74c2e011ff2b5ae4",
   "outputs": [
    {
     "name": "stdout",
     "output_type": "stream",
     "text": [
      "Use                             [Forest, Grasslands, Wetlands, Other classes, Agriculture, Forest plantation, No information, None]\n",
      "CoverType                                              [Vegetation, No vegetation, Water, No information, Clouds and shadows, None]\n",
      "Vegetations                       [Trees, Herbaceous plants, None, Palms, Shrubs, Other vegetation, Saran (plastic cover), Plastic]\n",
      "Herbaceous                                                                             [None, Grasses, Other Herbaceous, Plantains]\n",
      "GrasslandShrub                                    [None, Mixed Pasture (70-90%), Pure Pasture (90-100%), Combined Pasture (50-70%)]\n",
      "CropsType                                [None, Pineapple, Other, Rice, Citrus, Sugarcane, Palm, Banana, Melon, Watermelon, Coffee]\n",
      "WetlandArea                                              [None, Swamp (Marsh), Water bodies, Yolillal_Plants, Salt marsh, Mangrove]\n",
      "LandType                                                                            [None, Other surfaces, Exposed land, Bare Land]\n",
      "WaterBodyType                                                                                           [None, Continental, Marine]\n",
      "OtherClass        [None, Built/Developed, Bare Land, Clouds, Cloud shadow, Páramo (high-altitude ecosystem), Beaches and sandbanks]\n",
      "SAF                                                        [None, Pure crop (90-100%), Mixed crop (70-90%), Combined crop (50-70%)]\n",
      "Changes_15                                                                                          [Not determined, No, Yes, None]\n",
      "Gain_Loss                                                                                          [None, Forest loss, Forest gain]\n",
      "dtype: object\n"
     ]
    }
   ],
   "execution_count": 37
  },
  {
   "metadata": {
    "ExecuteTime": {
     "end_time": "2025-02-14T04:36:14.327218Z",
     "start_time": "2025-02-14T04:36:14.287895Z"
    }
   },
   "cell_type": "code",
   "source": [
    "test_cols = ['BLUE', 'GREEN', 'NIR', 'RED', 'SWIR1', 'SWIR2', 'altura2', 'aspect', 'aspectcos', 'aspectdeg', 'aspectsin', 'brightness', 'clay_1mMed', 'diff', 'elevation', 'evi', 'fpar', 'hand30_100', 'lai', 'mTPI', 'ndvi', 'ocs_1mMed', 'sand_1mMed', 'savi', 'silt_1mMed', 'slope', 'topDiv', 'wetness']\n",
    "\n",
    "gdf_e[test_cols] = gdf[test_cols]\n",
    "\n",
    "display(gdf_e.columns)\n",
    "display(gdf_e.shape)"
   ],
   "id": "af686ae75b32fae6",
   "outputs": [
    {
     "data": {
      "text/plain": [
       "Index(['plotid', 'sampleid', 'Use', 'CoverType', 'Vegetations', 'Herbaceous',\n",
       "       'GrasslandShrub', 'CropsType', 'WetlandArea', 'LandType',\n",
       "       'WaterBodyType', 'OtherClass', 'SAF', 'Changes_15', 'Gain_Loss',\n",
       "       'geometry', 'BLUE', 'GREEN', 'NIR', 'RED', 'SWIR1', 'SWIR2', 'altura2',\n",
       "       'aspect', 'aspectcos', 'aspectdeg', 'aspectsin', 'brightness',\n",
       "       'clay_1mMed', 'diff', 'elevation', 'evi', 'fpar', 'hand30_100', 'lai',\n",
       "       'mTPI', 'ndvi', 'ocs_1mMed', 'sand_1mMed', 'savi', 'silt_1mMed',\n",
       "       'slope', 'topDiv', 'wetness'],\n",
       "      dtype='object')"
      ]
     },
     "metadata": {},
     "output_type": "display_data"
    },
    {
     "data": {
      "text/plain": [
       "(101160, 44)"
      ]
     },
     "metadata": {},
     "output_type": "display_data"
    }
   ],
   "execution_count": 38
  },
  {
   "metadata": {},
   "cell_type": "markdown",
   "source": [
    "New translated gdf is named\n",
    "∴ `gdf_e`"
   ],
   "id": "60371aa26d88481"
  },
  {
   "metadata": {},
   "cell_type": "markdown",
   "source": "### Section 1.4 - Saving Data",
   "id": "bf73a83ad96b0212"
  },
  {
   "metadata": {
    "ExecuteTime": {
     "end_time": "2025-02-14T04:36:14.726886Z",
     "start_time": "2025-02-14T04:36:14.433387Z"
    }
   },
   "cell_type": "code",
   "source": [
    "# Saves the Spanish (original language) dataframe as a parquet file\n",
    "#gdf_s.to_parquet(\"../Costa_Rica_Data/Setup Output/sp_setup_data.parquet\", engine=\"pyarrow\")\n",
    "\n",
    "gdf_e.to_parquet(\"../Costa_Rica_Data/Data Acquisition Output/en_basic_gee_data.parquet\", engine=\"pyarrow\")\n",
    "\n",
    "# Saves the English (translated language) dataframe as a parquet file\n",
    "#gdf_e.to_parquet(\"../Costa_Rica_Data/Setup Output/en_setup_data.parquet\", engine=\"pyarrow\")"
   ],
   "id": "cf1256b85995cbff",
   "outputs": [],
   "execution_count": 39
  }
 ],
 "metadata": {
  "kernelspec": {
   "display_name": "Python 3",
   "language": "python",
   "name": "python3"
  },
  "language_info": {
   "codemirror_mode": {
    "name": "ipython",
    "version": 2
   },
   "file_extension": ".py",
   "mimetype": "text/x-python",
   "name": "python",
   "nbconvert_exporter": "python",
   "pygments_lexer": "ipython2",
   "version": "2.7.6"
  }
 },
 "nbformat": 4,
 "nbformat_minor": 5
}
